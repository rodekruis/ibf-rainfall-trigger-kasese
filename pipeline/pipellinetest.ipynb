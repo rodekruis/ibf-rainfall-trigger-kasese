{
 "cells": [
  {
   "cell_type": "code",
   "execution_count": 1,
   "metadata": {},
   "outputs": [
    {
     "name": "stdout",
     "output_type": "stream",
     "text": [
      "c:\\Users\\BOttow\\OneDrive - Rode Kruis\\Documenten\\repositories\\ibf-rainfall-trigger-kasese\\pipeline\n"
     ]
    }
   ],
   "source": [
    "import os\n",
    "path=os.getcwd()\n",
    "print(path)\n",
    "os.chdir('lib')\n",
    "from pipeline.forecast import Forecast\n",
    "import traceback\n",
    "import time\n",
    "import datetime\n",
    "from pipeline.settings import *\n",
    "from pipeline.secrets import *\n",
    "\n",
    "import logging\n",
    "import zipfile\n",
    "os.chdir(path)   \n",
    "\n",
    "\n",
    "# Set up logger\n",
    "logging.root.handlers = []\n",
    "logging.basicConfig(format='%(asctime)s : %(levelname)s : %(message)s', level=logging.DEBUG, filename='ex.log')\n",
    "# set up logging to console\n",
    "console = logging.StreamHandler()\n",
    "console.setLevel(logging.INFO)\n",
    "# set a format which is simpler for console use\n",
    "formatter = logging.Formatter('%(asctime)s : %(levelname)s : %(message)s')\n",
    "console.setFormatter(formatter)\n",
    "logging.getLogger(\"\").addHandler(console)\n"
   ]
  },
  {
   "cell_type": "code",
   "execution_count": 2,
   "metadata": {},
   "outputs": [
    {
     "name": "stderr",
     "output_type": "stream",
     "text": [
      "2023-04-25 16:22:34,016 : INFO : 2023-04-25 16:22:34.016254\n"
     ]
    }
   ],
   "source": [
    "startTime = time.time()\n",
    "logger = logging.getLogger(__name__)\n",
    " \n",
    "logger.info(str(datetime.datetime.now()))\n",
    "## download data from Datalacke \n"
   ]
  },
  {
   "cell_type": "code",
   "execution_count": 3,
   "metadata": {},
   "outputs": [
    {
     "data": {
      "text/plain": [
       "{'UGA': {'mock': False, 'notify_email': False}}"
      ]
     },
     "execution_count": 3,
     "metadata": {},
     "output_type": "execute_result"
    }
   ],
   "source": [
    "COUNTRY_CODES\n",
    "SETTINGS_SECRET"
   ]
  },
  {
   "cell_type": "code",
   "execution_count": 30,
   "metadata": {},
   "outputs": [
    {
     "name": "stdout",
     "output_type": "stream",
     "text": [
      "{'lead_times': {'1-day': 1, '2-day': 2, '3-day': 3}, 'thresholds': {'1-day': 60}, 'admin_level': 3, 'EXPOSURE_DATA_SOURCES': {'population': {'source': 'population/hrsl_uga_pop_resized_100', 'rasterValue': 0.15}}}\n",
      "{'1-day': 1, '2-day': 2, '3-day': 3}\n"
     ]
    }
   ],
   "source": [
    "COUNTRY_CODE = COUNTRY_CODES[0]\n",
    "COUNTRY_SETTINGS = SETTINGS[COUNTRY_CODE]\n",
    "print(COUNTRY_SETTINGS)\n",
    "LEAD_TIMES = COUNTRY_SETTINGS['lead_times']\n",
    "print(LEAD_TIMES)"
   ]
  },
  {
   "cell_type": "code",
   "execution_count": 32,
   "metadata": {},
   "outputs": [],
   "source": [
    "leadTimeLabel = '1-day'\n",
    "leadTimeValue = 1\n"
   ]
  },
  {
   "cell_type": "code",
   "execution_count": 33,
   "metadata": {},
   "outputs": [
    {
     "name": "stderr",
     "output_type": "stream",
     "text": [
      "2023-04-25 16:01:45,404 : INFO : --------STARTING: 1-day--------------------------\n",
      "0it [00:00, ?it/s]"
     ]
    },
    {
     "name": "stdout",
     "output_type": "stream",
     "text": [
      "weather predictions for gridpoints...\n"
     ]
    },
    {
     "name": "stderr",
     "output_type": "stream",
     "text": [
      "47it [00:09,  4.76it/s]\n",
      "0it [00:00, ?it/s]"
     ]
    },
    {
     "name": "stdout",
     "output_type": "stream",
     "text": [
      "created: data/other/input/shape/rainfal_long_format.geojson\n",
      "----------------\n",
      "\n",
      "\n",
      "save into TIF format....\n",
      "created: data/raster/output/0/rainfall_extents/rainfall_extent_1-day_UGA.tif\n",
      "----------------\n",
      "\n",
      "\n",
      "zonal stats...\n"
     ]
    },
    {
     "name": "stderr",
     "output_type": "stream",
     "text": [
      "66it [00:04, 16.43it/s]\n"
     ]
    },
    {
     "name": "stdout",
     "output_type": "stream",
     "text": [
      "created: data/raster/output/0/rainfall_extents\\rainfall_zonal.csv\n",
      "----------------\n",
      "\n",
      "\n",
      "determining daily aggregates per catchment area....\n",
      "daily_rainfall_per_catchment:    hours_ahead  tot_rainfall_mm                 name  trigger\n",
      "0       1-day             2.51              Bukonjo        0\n",
      "0       2-day             1.94              Bukonjo        0\n",
      "0       3-day             3.20              Bukonjo        0\n",
      "0       1-day             6.35            Busongora        0\n",
      "0       2-day             3.40            Busongora        0\n",
      "0       3-day            12.85            Busongora        0\n",
      "0       1-day             0.00  Kasese Municipality        0\n",
      "0       2-day             0.00  Kasese Municipality        0\n",
      "0       3-day             0.00  Kasese Municipality        0\n",
      "created:data/raster/output/0/rainfall_extents\\rainfall_zonal_daily.csv\n",
      "determining daily aggregates for every location....\n"
     ]
    },
    {
     "name": "stderr",
     "output_type": "stream",
     "text": [
      "2023-04-25 16:02:02,269 : INFO : --------Finished Rainfall data Processing\n"
     ]
    },
    {
     "name": "stdout",
     "output_type": "stream",
     "text": [
      "----------------\n",
      "\n",
      "\n",
      "done\n"
     ]
    }
   ],
   "source": [
    "logger.info(f'--------STARTING: {leadTimeLabel}' + '--------------------------')\n",
    "fc = Forecast(leadTimeLabel, leadTimeValue, COUNTRY_CODE,COUNTRY_SETTINGS['admin_level'])\n",
    "fc.rainfallData.process()\n",
    "logger.info('--------Finished Rainfall data Processing')"
   ]
  },
  {
   "cell_type": "code",
   "execution_count": 42,
   "metadata": {},
   "outputs": [],
   "source": [
    "indicator = 'population'\n",
    "values = {'source': 'population/hrsl_uga_pop_resized_100', 'rasterValue': 0.15}"
   ]
  },
  {
   "cell_type": "code",
   "execution_count": 44,
   "metadata": {},
   "outputs": [
    {
     "name": "stdout",
     "output_type": "stream",
     "text": [
      "indicator:  population\n"
     ]
    }
   ],
   "source": [
    "print('indicator: ', indicator)\n",
    "fc.exposure.inputRaster = RASTER_INPUT + values['source'] + \".tif\"\n",
    "fc.exposure.outputRaster = RASTER_OUTPUT + \"0/\" + \\\n",
    "                values['source'] + fc.exposure.leadTimeLabel"
   ]
  },
  {
   "cell_type": "code",
   "execution_count": 53,
   "metadata": {},
   "outputs": [],
   "source": [
    "if os.getenv('TRIGGER') == 'False': # filter only events has high impact\n",
    "     stats = fc.exposure.calcAffected(fc.exposure.disasterExtentEmptyRaster, indicator, values['rasterValue'])\n",
    "else:\n",
    "     stats = fc.exposure.calcAffected(fc.exposure.disasterExtentRaster, indicator, values['rasterValue'])"
   ]
  },
  {
   "cell_type": "code",
   "execution_count": 56,
   "metadata": {},
   "outputs": [],
   "source": [
    "result = {\n",
    "                'countryCodeISO3': fc.exposure.countryCodeISO3,\n",
    "                'exposurePlaceCodes': stats,\n",
    "                'leadTime': fc.exposure.leadTimeLabel,\n",
    "                'dynamicIndicator': indicator + '_affected',\n",
    "                'adminLevel': fc.exposure.admin_level\n",
    "            }"
   ]
  },
  {
   "cell_type": "code",
   "execution_count": 57,
   "metadata": {},
   "outputs": [
    {
     "data": {
      "text/plain": [
       "{'countryCodeISO3': 'UGA',\n",
       " 'exposurePlaceCodes': [{'amount': 0, 'placeCode': 'UG411501'},\n",
       "  {'amount': 0, 'placeCode': 'UG411502'},\n",
       "  {'amount': 0, 'placeCode': 'UG411503'}],\n",
       " 'leadTime': '1-day',\n",
       " 'dynamicIndicator': 'population_affected',\n",
       " 'adminLevel': 3}"
      ]
     },
     "execution_count": 57,
     "metadata": {},
     "output_type": "execute_result"
    }
   ],
   "source": [
    "result"
   ]
  },
  {
   "cell_type": "code",
   "execution_count": 3,
   "metadata": {},
   "outputs": [
    {
     "name": "stderr",
     "output_type": "stream",
     "text": [
      "2023-04-25 16:22:46,221 : INFO : --------STARTING: UGA--------------------------\n",
      "2023-04-25 16:22:46,222 : INFO : --------STARTING: 1-day--------------------------\n",
      "5it [00:00, 45.06it/s]"
     ]
    },
    {
     "name": "stdout",
     "output_type": "stream",
     "text": [
      "weather predictions for gridpoints...\n"
     ]
    },
    {
     "name": "stderr",
     "output_type": "stream",
     "text": [
      "47it [00:01, 39.76it/s]\n"
     ]
    },
    {
     "name": "stdout",
     "output_type": "stream",
     "text": [
      "created: data/other/input/shape/rainfal_long_format.geojson\n",
      "----------------\n",
      "\n",
      "\n",
      "save into TIF format....\n"
     ]
    },
    {
     "name": "stderr",
     "output_type": "stream",
     "text": [
      "0it [00:00, ?it/s]"
     ]
    },
    {
     "name": "stdout",
     "output_type": "stream",
     "text": [
      "created: data/raster/output/0/rainfall_extents/rainfall_extent_1-day_UGA.tif\n",
      "----------------\n",
      "\n",
      "\n",
      "zonal stats...\n"
     ]
    },
    {
     "name": "stderr",
     "output_type": "stream",
     "text": [
      "66it [00:07,  9.09it/s]\n"
     ]
    },
    {
     "name": "stdout",
     "output_type": "stream",
     "text": [
      "created: data/raster/output/0/rainfall_extents\\rainfall_zonal.csv\n",
      "----------------\n",
      "\n",
      "\n",
      "determining daily aggregates per catchment area....\n",
      "daily_rainfall_per_catchment:    hours_ahead  tot_rainfall_mm                 name  trigger\n",
      "0       1-day             2.51              Bukonjo        0\n",
      "0       2-day             1.94              Bukonjo        0\n",
      "0       3-day             3.20              Bukonjo        0\n",
      "0       1-day             6.35            Busongora        0\n",
      "0       2-day             3.40            Busongora        0\n",
      "0       3-day            12.85            Busongora        0\n",
      "0       1-day             0.00  Kasese Municipality        0\n",
      "0       2-day             0.00  Kasese Municipality        0\n",
      "0       3-day             0.00  Kasese Municipality        0\n",
      "created:data/raster/output/0/rainfall_extents\\rainfall_zonal_daily.csv\n",
      "determining daily aggregates for every location....\n"
     ]
    },
    {
     "name": "stderr",
     "output_type": "stream",
     "text": [
      "2023-04-25 16:22:58,732 : INFO : --------Finished Rainfall data Processing\n",
      "2023-04-25 16:22:58,865 : INFO : --------Finished exposure\n"
     ]
    },
    {
     "name": "stdout",
     "output_type": "stream",
     "text": [
      "----------------\n",
      "\n",
      "\n",
      "done\n",
      "indicator:  population\n",
      "result:  {'countryCodeISO3': 'UGA', 'exposurePlaceCodes': [{'amount': 0, 'placeCode': 'UG411501'}, {'amount': 0, 'placeCode': 'UG411502'}, {'amount': 0, 'placeCode': 'UG411503'}], 'leadTime': '1-day', 'dynamicIndicator': 'population_affected', 'adminLevel': 3}\n",
      "self.statsPath:  data/other/output/calculated_affected/affected_1-day_UGA_population.json\n",
      "indicator:  population\n",
      "body:  {'countryCodeISO3': 'UGA', 'exposurePlaceCodes': [{'amount': 0, 'placeCode': 'UG411501'}, {'amount': 0, 'placeCode': 'UG411502'}, {'amount': 0, 'placeCode': 'UG411503'}], 'leadTime': '1-day', 'dynamicIndicator': 'population_affected', 'adminLevel': 3, 'disasterType': 'heavy-rain'}\n",
      "Uploaded calculated_affected for indicator: population\n",
      "indicator:  alert_threshold\n",
      "body:  {'countryCodeISO3': 'UGA', 'exposurePlaceCodes': [{'amount': 0, 'placeCode': 'UG411501'}, {'amount': 0, 'placeCode': 'UG411502'}, {'amount': 0, 'placeCode': 'UG411503'}], 'leadTime': '1-day', 'dynamicIndicator': 'alert_threshold', 'adminLevel': 3, 'disasterType': 'heavy-rain'}\n"
     ]
    },
    {
     "name": "stderr",
     "output_type": "stream",
     "text": [
      "2023-04-25 16:22:59,656 : INFO : --------Finished upload\n",
      "2023-04-25 16:22:59,657 : INFO : --------Finished notification\n",
      "2023-04-25 16:22:59,658 : INFO : --------STARTING: 2-day--------------------------\n"
     ]
    },
    {
     "name": "stdout",
     "output_type": "stream",
     "text": [
      "Uploaded alert_threshold\n",
      "Uploaded raster-file: data/raster/output/0/rainfall_extents/rainfall_extent_1-day_UGA.tif\n"
     ]
    },
    {
     "name": "stderr",
     "output_type": "stream",
     "text": [
      "2023-04-25 16:22:59,915 : INFO : --------Finished Rainfall data Processing\n",
      "2023-04-25 16:22:59,987 : INFO : --------Finished exposure\n"
     ]
    },
    {
     "name": "stdout",
     "output_type": "stream",
     "text": [
      "indicator:  population\n",
      "result:  {'countryCodeISO3': 'UGA', 'exposurePlaceCodes': [{'amount': 0, 'placeCode': 'UG411501'}, {'amount': 0, 'placeCode': 'UG411502'}, {'amount': 0, 'placeCode': 'UG411503'}], 'leadTime': '2-day', 'dynamicIndicator': 'population_affected', 'adminLevel': 3}\n",
      "self.statsPath:  data/other/output/calculated_affected/affected_2-day_UGA_population.json\n",
      "indicator:  population\n",
      "body:  {'countryCodeISO3': 'UGA', 'exposurePlaceCodes': [{'amount': 0, 'placeCode': 'UG411501'}, {'amount': 0, 'placeCode': 'UG411502'}, {'amount': 0, 'placeCode': 'UG411503'}], 'leadTime': '2-day', 'dynamicIndicator': 'population_affected', 'adminLevel': 3, 'disasterType': 'heavy-rain'}\n",
      "Uploaded calculated_affected for indicator: population\n",
      "indicator:  alert_threshold\n",
      "body:  {'countryCodeISO3': 'UGA', 'exposurePlaceCodes': [{'amount': 0, 'placeCode': 'UG411501'}, {'amount': 0, 'placeCode': 'UG411502'}, {'amount': 0, 'placeCode': 'UG411503'}], 'leadTime': '2-day', 'dynamicIndicator': 'alert_threshold', 'adminLevel': 3, 'disasterType': 'heavy-rain'}\n"
     ]
    },
    {
     "name": "stderr",
     "output_type": "stream",
     "text": [
      "2023-04-25 16:23:00,717 : INFO : --------Finished upload\n",
      "2023-04-25 16:23:00,718 : INFO : --------Finished notification\n",
      "2023-04-25 16:23:00,719 : INFO : --------STARTING: 3-day--------------------------\n"
     ]
    },
    {
     "name": "stdout",
     "output_type": "stream",
     "text": [
      "Uploaded alert_threshold\n",
      "Uploaded raster-file: data/raster/output/0/rainfall_extents/rainfall_extent_2-day_UGA.tif\n"
     ]
    },
    {
     "name": "stderr",
     "output_type": "stream",
     "text": [
      "2023-04-25 16:23:00,980 : INFO : --------Finished Rainfall data Processing\n",
      "2023-04-25 16:23:01,060 : INFO : --------Finished exposure\n"
     ]
    },
    {
     "name": "stdout",
     "output_type": "stream",
     "text": [
      "indicator:  population\n",
      "result:  {'countryCodeISO3': 'UGA', 'exposurePlaceCodes': [{'amount': 0, 'placeCode': 'UG411501'}, {'amount': 0, 'placeCode': 'UG411502'}, {'amount': 0, 'placeCode': 'UG411503'}], 'leadTime': '3-day', 'dynamicIndicator': 'population_affected', 'adminLevel': 3}\n",
      "self.statsPath:  data/other/output/calculated_affected/affected_3-day_UGA_population.json\n",
      "indicator:  population\n",
      "body:  {'countryCodeISO3': 'UGA', 'exposurePlaceCodes': [{'amount': 0, 'placeCode': 'UG411501'}, {'amount': 0, 'placeCode': 'UG411502'}, {'amount': 0, 'placeCode': 'UG411503'}], 'leadTime': '3-day', 'dynamicIndicator': 'population_affected', 'adminLevel': 3, 'disasterType': 'heavy-rain'}\n",
      "Uploaded calculated_affected for indicator: population\n",
      "indicator:  alert_threshold\n",
      "body:  {'countryCodeISO3': 'UGA', 'exposurePlaceCodes': [{'amount': 0, 'placeCode': 'UG411501'}, {'amount': 0, 'placeCode': 'UG411502'}, {'amount': 0, 'placeCode': 'UG411503'}], 'leadTime': '3-day', 'dynamicIndicator': 'alert_threshold', 'adminLevel': 3, 'disasterType': 'heavy-rain'}\n"
     ]
    },
    {
     "name": "stderr",
     "output_type": "stream",
     "text": [
      "2023-04-25 16:23:01,697 : INFO : --------Finished upload\n",
      "2023-04-25 16:23:01,697 : INFO : --------Finished notification\n",
      "2023-04-25 16:23:01,698 : INFO : 27.681947231292725\n"
     ]
    },
    {
     "name": "stdout",
     "output_type": "stream",
     "text": [
      "Uploaded alert_threshold\n",
      "Uploaded raster-file: data/raster/output/0/rainfall_extents/rainfall_extent_3-day_UGA.tif\n"
     ]
    }
   ],
   "source": [
    "\n",
    "for COUNTRY_CODE in COUNTRY_CODES:\n",
    "    logger.info(f'--------STARTING: {COUNTRY_CODE}' + '--------------------------')\n",
    "    COUNTRY_SETTINGS = SETTINGS[COUNTRY_CODE]\n",
    "    LEAD_TIMES = COUNTRY_SETTINGS['lead_times']\n",
    "\n",
    "    for leadTimeLabel, leadTimeValue in LEAD_TIMES.items():\n",
    "        logger.info(f'--------STARTING: {leadTimeLabel}' + '--------------------------')\n",
    "        fc = Forecast(leadTimeLabel, leadTimeValue, COUNTRY_CODE,COUNTRY_SETTINGS['admin_level'])\n",
    "        fc.rainfallData.process()\n",
    "        logger.info('--------Finished Rainfall data Processing')\n",
    "        fc.exposure.callAllExposure()\n",
    "        logger.info('--------Finished exposure')\n",
    "        if COUNTRY_CODE =='SSD':\n",
    "            fc.exposure.makeMaps()\n",
    "            logger.info('--------Finished make maps')                \n",
    "        fc.db.upload()                \n",
    "        logger.info('--------Finished upload')\n",
    "        fc.db.sendNotification()\n",
    "        logger.info('--------Finished notification')\n",
    " \n",
    "    elapsedTime = str(time.time() - startTime)\n",
    "    logger.info(str(elapsedTime))\n"
   ]
  },
  {
   "cell_type": "code",
   "execution_count": null,
   "metadata": {},
   "outputs": [],
   "source": [
    "import PyPDF2 \n",
    "import re\n"
   ]
  },
  {
   "cell_type": "code",
   "execution_count": null,
   "metadata": {},
   "outputs": [],
   "source": [
    "os.getcwd()"
   ]
  },
  {
   "cell_type": "code",
   "execution_count": null,
   "metadata": {},
   "outputs": [],
   "source": [
    "\n"
   ]
  },
  {
   "cell_type": "code",
   "execution_count": null,
   "metadata": {},
   "outputs": [],
   "source": [
    "\n",
    "# Open the PDF file\n",
    "pdf_file = open('../../temp/evidence.pdf', 'rb')\n",
    "pdf_reader = PyPDF2.PdfFileReader(pdf_file)\n",
    "# Extract the text from each page of the PDF\n",
    "text = ''\n",
    "for page_num in range(pdf_reader.getNumPages()):\n",
    "    page = pdf_reader.getPage(page_num)\n",
    "    text += page.extractText()\n",
    "    print(page_num)\n",
    "# Use regular expressions to find keywords in the text\n",
    "keywords = re.findall(r'\\b(\\w+)\\b', text)\n",
    "\n",
    "# Print the keywords\n",
    "print(keywords)\n",
    "pdf_file.close()"
   ]
  },
  {
   "cell_type": "code",
   "execution_count": null,
   "metadata": {},
   "outputs": [],
   "source": [
    "from zotero2readwise.zt2rw import Zotero2Readwise\n",
    "\n",
    "zt_rw = Zotero2Readwise(\n",
    "    readwise_token=\"2y8JuTpQzigk8zQx3IhrXlMAwPM5XI15fki7G98AYCWF1NgFkC\",  # Visit https://readwise.io/access_token)\n",
    "    zotero_key=\"UL310hGAoZcASmgobT4mPrHb\",  # Visit https://www.zotero.org/settings/keys\n",
    "    zotero_library_id=\"akliludin\", # Visit https://www.zotero.org/settings/keys\n",
    "    zotero_library_type=\"user\", # \"user\" (default) or \"group\"\n",
    "    include_annotations=True, # Include Zotero annotations -> Default: True\n",
    "    include_notes=False, # Include Zotero notes -> Default: False\n",
    ")\n",
    "zt_rw.run()"
   ]
  },
  {
   "cell_type": "code",
   "execution_count": null,
   "metadata": {},
   "outputs": [],
   "source": [
    "IBF_URL='https://ibf-test.510.global/api/' \n",
    "ADMIN_PASSWORD='password' \n",
    "#IBF_PASSWORD='rp82pU8Qge6Yvu'\n",
    "# API-service access\n",
    "ADMIN_LOGIN = 'dunant@redcross.nl'\n",
    "import requests\n",
    "API_LOGIN_URL=IBF_URL+'user/login'\n",
    "\n"
   ]
  },
  {
   "cell_type": "code",
   "execution_count": null,
   "metadata": {},
   "outputs": [],
   "source": [
    "import pandas as pd\n",
    "import numpy as np\n",
    "import json\n",
    "\n",
    "filename=fc.db.triggerFolder +'triggers_rp_' + fc.db.leadTimeLabel + '_' + fc.db.countryCodeISO3 + \".json\"\n",
    "\n",
    "df = pd.read_json(filename,orient='records')\n",
    " \n",
    " \n",
    "with open(filename) as json_file:\n",
    "    triggers = json.load(json_file) \n",
    "\n",
    " \n",
    "stationForecasts = []\n",
    "for key in triggers:\n",
    "    stationForecasts.append({\n",
    "        \"stationCode\": key['stationCode'],\n",
    "        \"forecastLevel\": int(key['fc']),\n",
    "        \"eapAlertClass\": key['eapAlertClass'],\n",
    "        \"forecastReturnPeriod\": key['fc_rp'],\n",
    "        \"triggerLevel\": int(key['triggerLevel'])\n",
    "\n",
    "    })\n",
    "    \n",
    "body = {\n",
    "    \"countryCodeISO3\": fc.db.countryCodeISO3,\n",
    "    \"leadTime\": fc.db.leadTimeLabel,\n",
    "    \"date\": fc.db.uploadTime,\n",
    "    \"stationForecasts\": stationForecasts\n",
    "}\n",
    "    \n",
    "    \n",
    "    \n"
   ]
  },
  {
   "cell_type": "code",
   "execution_count": null,
   "metadata": {},
   "outputs": [],
   "source": [
    "body"
   ]
  },
  {
   "cell_type": "code",
   "execution_count": null,
   "metadata": {},
   "outputs": [],
   "source": [
    "fc.db.apiPostRequest('glofas-stations/triggers', body=body)\n",
    "logger.info('Uploaded triggers per station')"
   ]
  },
  {
   "cell_type": "code",
   "execution_count": null,
   "metadata": {},
   "outputs": [],
   "source": [
    "    \n",
    "    dfStation['stationCode'] = df['stationCode']\n",
    "dfStation['forecastLevel'] = df['fc'].astype(np.int32,errors='ignore')\n",
    "#dfStation['forecastProbability'] = df['fc_prob'].astype(np.float64,errors='ignore')\n",
    "#dfStation['forecastTrigger'] = df['fc_trigger'].astype(np.int32,errors='ignore')\n",
    "dfStation['eapAlertClass'] = df['eapAlertClass']\n",
    "dfStation['forecastReturnPeriod'] = df['fc_rp'].astype(np.int32,errors='ignore')\n",
    "dfStation['triggerLevel'] = df['triggerLevel'].astype(np.int32,errors='ignore')\n",
    "\n",
    "\n",
    "body = {\n",
    "    'countryCodeISO3': self.countryCodeISO3,\n",
    "    'triggersPerLeadTime': triggersPerLeadTime\n",
    "}\n",
    "body['disasterType'] = self.getDisasterType()\n",
    "body['date']=self.uploadTime"
   ]
  },
  {
   "cell_type": "code",
   "execution_count": null,
   "metadata": {},
   "outputs": [],
   "source": [
    "df=df.replace(np.nan,null)\n",
    "dfStation = pd.DataFrame(index=df.index)\n",
    "dfStation['stationCode'] = df['stationCode']\n",
    "dfStation['forecastLevel'] = df['fc'].astype(np.int32,errors='ignore')\n",
    "#dfStation['forecastProbability'] = df['fc_prob'].astype(np.float64,errors='ignore')\n",
    "#dfStation['forecastTrigger'] = df['fc_trigger'].astype(np.int32,errors='ignore')\n",
    "dfStation['eapAlertClass'] = df['eapAlertClass']\n",
    "dfStation['forecastReturnPeriod'] = df['fc_rp'].astype(np.int32,errors='ignore')\n",
    "dfStation['triggerLevel'] = df['triggerLevel'].astype(np.int32,errors='ignore')\n",
    "stationForecasts = json.loads(dfStation.to_json(orient='records'))\n",
    "body = {\n",
    "    'countryCodeISO3': fc.db.countryCodeISO3,\n",
    "    'leadTime': fc.db.leadTimeLabel,\n",
    "    'date': fc.db.uploadTime,\n",
    "    'stationForecasts': stationForecasts\n",
    "}\n",
    "#body['disasterType'] = fc.db.getDisasterType()\n",
    "#body['date']=fc.db.uploadTime\n"
   ]
  },
  {
   "cell_type": "code",
   "execution_count": null,
   "metadata": {},
   "outputs": [],
   "source": [
    "\n",
    "fc.db.apiPostRequest('glofas-stations/triggers', body=body)\n",
    "logger.info('Uploaded triggers per station')\n",
    "\n",
    " "
   ]
  },
  {
   "cell_type": "code",
   "execution_count": null,
   "metadata": {},
   "outputs": [],
   "source": [
    "body"
   ]
  },
  {
   "cell_type": "code",
   "execution_count": null,
   "metadata": {},
   "outputs": [],
   "source": [
    "\n",
    "fc.db.apiPostRequest('glofas-stations/triggers', body=body)\n",
    "logger.info('Uploaded triggers per station')\n",
    "\n",
    " "
   ]
  },
  {
   "cell_type": "code",
   "execution_count": null,
   "metadata": {},
   "outputs": [],
   "source": [
    "dffinal = pd.concat(dfs)"
   ]
  },
  {
   "cell_type": "code",
   "execution_count": null,
   "metadata": {},
   "outputs": [],
   "source": [
    "df3=dffinal.groupby('storm_id').agg(DMG_predicted_total=('DMG_predicted','sum')).reset_index()\n",
    "df3.DMG_predicted_total.values"
   ]
  },
  {
   "cell_type": "code",
   "execution_count": null,
   "metadata": {},
   "outputs": [],
   "source": [
    "np.mean(dffinal.DMG_predicted_t.values)"
   ]
  },
  {
   "cell_type": "code",
   "execution_count": null,
   "metadata": {},
   "outputs": [],
   "source": [
    "\n"
   ]
  },
  {
   "cell_type": "code",
   "execution_count": null,
   "metadata": {},
   "outputs": [],
   "source": [
    "\n"
   ]
  },
  {
   "cell_type": "code",
   "execution_count": null,
   "metadata": {},
   "outputs": [],
   "source": [
    "\n",
    "\n",
    "Yauyos=dffinal['DMG_predicted_t']\n",
    " \n",
    "Yauyos[Yauyos>0].hist(bins=100, edgecolor='#4aaaaa', color='#80BCD8')\n",
    "import matplotlib.pyplot as plt\n",
    "\n",
    "plt.plot(tabulaciones,distnormal, color='#4B4C4E', linewidth=5, linestyle='--',label='Dist Normal')\n",
    "plt.plot(tabulaciones,distlognormal, color='#3F83B7', linewidth=5, linestyle='--', label='Dist Lognormal')\n",
    "plt.plot(tabulaciones,distweibull, color='#7B7C7E', linewidth=5, linestyle='-.', label='Dist Weibull')\n",
    "plt.plot(tabulaciones,distchi2, color='#3F83B7', linewidth=5, linestyle=':', label='Dis Chi2')\n",
    "#plt.xlim(0,30)\n",
    "plt.legend(loc='upper right')\n"
   ]
  },
  {
   "cell_type": "code",
   "execution_count": null,
   "metadata": {},
   "outputs": [],
   "source": [
    "import numpy as np\n",
    "from scipy import stats\n",
    "from scipy.stats import genextreme\n",
    "Yauyos=dffinal.DMG_predicted_t.values\n",
    "#hallamos el promedio y la desviación\n",
    "promedio = Yauyos[Yauyos>0].mean()\n",
    "desviacion = Yauyos[Yauyos>0].std()\n",
    "print (promedio, desviacion)\n",
    "\n",
    "#determinamos las regresiones estadisticas\n",
    "tabulaciones = np.arange(-40,51,0.1)\n",
    "distnormal = stats.norm.pdf(tabulaciones, \n",
    "                            loc=promedio, scale=desviacion)\n",
    "distlognormal = stats.pearson3.pdf(tabulaciones,skew=1,\n",
    "                                   loc=promedio, scale=desviacion)\n",
    "distweibull = stats.dweibull.pdf(tabulaciones,c=1,\n",
    "                                   loc=promedio, scale=desviacion)\n",
    "distchi2 = stats.chi2.pdf(tabulaciones,df=2,\n",
    "                                   loc=promedio, scale=desviacion)\n",
    "\n",
    "p100y_norm = stats.norm.ppf([0.99], loc=promedio, scale=desviacion)\n",
    "p100y_lognorm = stats.pearson3.ppf([0.99], skew=1, loc=promedio, scale=desviacion)\n",
    "\n",
    "\n",
    "for values in[0.5,0.8,0.857142857,0.9,0.933333333,0.95,0.96,0.966666667,0.975,0.98,0.983333333,0.9875,0.99,0.993333333,0.995]:\n",
    "    year=int((1/(1-values)))\n",
    "    p100y_lognorm = stats.pearson3.ppf([values], skew=1, loc=promedio, scale=desviacion)\n",
    "    print (f\"damage for {year} return period Dist Logormal =\", int(p100y_lognorm[0]))\n",
    "\n"
   ]
  },
  {
   "cell_type": "code",
   "execution_count": null,
   "metadata": {},
   "outputs": [],
   "source": [
    "\n",
    "data = df3.DMG_predicted_total.values\n",
    "# Fit the generalized extreme value distribution to the data.\n",
    "shape, loc, scale = genextreme.fit(data)\n",
    "print(\"Fit parameters:\")\n",
    "print(f\"  shape: {shape:.4f}\")\n",
    "print(f\"  loc:   {loc:.4f}\")\n",
    "print(f\"  scale: {scale:.4f}\")\n",
    "print()\n",
    "\n",
    "# Compute the return levels for several return periods.\n",
    "return_periods = np.array([5, 10, 20, 50, 100])\n",
    "return_levels = genextreme.isf(1/return_periods, shape, loc, scale)\n",
    "\n",
    "print(\"Return levels:\")\n",
    "print()\n",
    "print(\"Period    Level\")\n",
    "print(\"(years)   (temp)\")\n",
    "\n",
    "for period, level in zip(return_periods, return_levels):\n",
    "    print(f'{period:4.0f}  {level:9.2f}')"
   ]
  }
 ],
 "metadata": {
  "kernelspec": {
   "display_name": "Python 3.8.10 ('geo_env')",
   "language": "python",
   "name": "python3"
  },
  "language_info": {
   "codemirror_mode": {
    "name": "ipython",
    "version": 3
   },
   "file_extension": ".py",
   "mimetype": "text/x-python",
   "name": "python",
   "nbconvert_exporter": "python",
   "pygments_lexer": "ipython3",
   "version": "3.8.8"
  },
  "orig_nbformat": 4,
  "vscode": {
   "interpreter": {
    "hash": "c56dc72bed4e123c21144b1399355bbd07b8d587f6360d6b6ea22ee2ab335a35"
   }
  }
 },
 "nbformat": 4,
 "nbformat_minor": 2
}
